{
 "cells": [
  {
   "cell_type": "code",
   "execution_count": 1,
   "metadata": {},
   "outputs": [],
   "source": [
    "import os\n",
    "import pandas as pd\n",
    "from sqlalchemy import create_engine, text\n",
    "from dotenv import load_dotenv"
   ]
  },
  {
   "cell_type": "code",
   "execution_count": 24,
   "metadata": {},
   "outputs": [],
   "source": [
    "# =============================================\n",
    "# ✏️ Your SQL query goes here:\n",
    "sql_string = \"\"\"\n",
    "\n",
    "SELECT COUNT(DISTINCT ch.student_id_fk) AS female_math_students_count\n",
    "FROM \"Course_History\" ch\n",
    "JOIN \"Demographics\" d ON ch.student_id_fk = d.student_id_fk\n",
    "WHERE ch.\"Subject Area Name\" ILIKE '%Math%'\n",
    "  AND d.\"Sex\" = 'Female'\n",
    "  AND ch.\"Begin Academic Year\" <= 2020\n",
    "  AND ch.\"End Academic Year\" >= 2020;\n",
    "\n",
    "\"\"\"\n",
    "# ============================================="
   ]
  },
  {
   "cell_type": "code",
   "execution_count": 25,
   "metadata": {},
   "outputs": [
    {
     "name": "stdout",
     "output_type": "stream",
     "text": [
      "   female_math_students_count\n",
      "0                           1\n"
     ]
    }
   ],
   "source": [
    "# Load environment variables\n",
    "load_dotenv('db_config.env')\n",
    "\n",
    "PG_USER = os.getenv('PG_USER')\n",
    "PG_PASSWORD = os.getenv('PG_PASSWORD')\n",
    "PG_HOST = os.getenv('PG_HOST')\n",
    "PG_PORT = os.getenv('PG_PORT')\n",
    "PG_DATABASE = os.getenv('PG_DATABASE')\n",
    "\n",
    "# Connect to database\n",
    "conn_str = f'postgresql+psycopg2://{PG_USER}:{PG_PASSWORD}@{PG_HOST}:{PG_PORT}/{PG_DATABASE}'\n",
    "engine = create_engine(conn_str)\n",
    "\n",
    "# Query execution function\n",
    "def run_query(sql_query):\n",
    "    with engine.connect() as conn:\n",
    "        result = pd.read_sql(text(sql_query), conn)\n",
    "    return result\n",
    "\n",
    "\n",
    "try:\n",
    "    df_result = run_query(sql_string)\n",
    "    print(df_result)\n",
    "except Exception as e:\n",
    "    print(\"Error running query:\", e)"
   ]
  },
  {
   "cell_type": "code",
   "execution_count": null,
   "metadata": {},
   "outputs": [],
   "source": []
  }
 ],
 "metadata": {
  "kernelspec": {
   "display_name": "text-to-sql",
   "language": "python",
   "name": "python3"
  },
  "language_info": {
   "codemirror_mode": {
    "name": "ipython",
    "version": 3
   },
   "file_extension": ".py",
   "mimetype": "text/x-python",
   "name": "python",
   "nbconvert_exporter": "python",
   "pygments_lexer": "ipython3",
   "version": "3.12.9"
  }
 },
 "nbformat": 4,
 "nbformat_minor": 2
}
